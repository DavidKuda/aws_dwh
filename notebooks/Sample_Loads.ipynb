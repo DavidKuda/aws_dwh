{
 "cells": [
  {
   "cell_type": "code",
   "execution_count": null,
   "id": "aad89b0e-7143-4352-8132-7b3e14ff0102",
   "metadata": {},
   "outputs": [],
   "source": [
    "from pprint import pprint\n",
    "import json\n",
    "\n",
    "import pandas as pd\n",
    "\n",
    "from aws_client.aws_client import AWS\n",
    "from aws_client import utils"
   ]
  },
  {
   "cell_type": "code",
   "execution_count": null,
   "id": "6dc80cd9-8828-46b7-b175-1aaa89996428",
   "metadata": {},
   "outputs": [],
   "source": [
    "%load_ext sql"
   ]
  },
  {
   "cell_type": "code",
   "execution_count": null,
   "id": "06d78435-c0ce-42de-b10b-6ac64271232e",
   "metadata": {},
   "outputs": [],
   "source": [
    "configs = utils.parse_configs('../config/dwh.cfg')\n",
    "secrets = utils.get_secrets()"
   ]
  },
  {
   "cell_type": "code",
   "execution_count": null,
   "id": "d4871c06-9961-4059-97fe-e72d50a23c66",
   "metadata": {},
   "outputs": [],
   "source": [
    "aws = AWS(aws_access_key_id=secrets.get('KEY'),\n",
    "          aws_secret_access_key=secrets.get('SECRET'),\n",
    "          region=configs.get('REGION'),\n",
    "          config_params=configs)"
   ]
  },
  {
   "cell_type": "code",
   "execution_count": null,
   "id": "5ed4edd6-6bdc-4789-a57d-9c5101338463",
   "metadata": {},
   "outputs": [],
   "source": [
    "bucket = aws.s3.Bucket('udacity-dend')"
   ]
  },
  {
   "cell_type": "code",
   "execution_count": null,
   "id": "5ed12a35-696d-4c8c-945f-c6e6e687dc07",
   "metadata": {},
   "outputs": [],
   "source": [
    "role_arn = aws.iam.get_role(\n",
    "    RoleName=configs.get('DWH_IAM_ROLE_NAME')\n",
    ")['Role']['Arn']"
   ]
  },
  {
   "cell_type": "code",
   "execution_count": null,
   "id": "4c4a8f94-0213-4d36-83b4-78db7fa332ba",
   "metadata": {},
   "outputs": [],
   "source": [
    "aws.create_redshift_cluster(role_arn)"
   ]
  },
  {
   "cell_type": "code",
   "execution_count": null,
   "id": "d413b2dc-10e5-47ed-ab60-2d708a537d23",
   "metadata": {},
   "outputs": [],
   "source": [
    "def get_redshift_cluster_props():\n",
    "    redshift_cluster_props = aws.redshift.describe_clusters(\n",
    "        ClusterIdentifier=configs.get('DWH_CLUSTER_IDENTIFIER')\n",
    "    )['Clusters']\n",
    "    return redshift_cluster_props\n",
    "\n",
    "def print_dwh_params(redshift_cluster_props):\n",
    "    DWH_ENDPOINT = redshift_cluster_props['Endpoint']['Address']\n",
    "    DWH_ROLE_ARN = redshift_cluster_props['IamRoles'][0]['IamRoleArn']\n",
    "    print(DWH_ENDPOINT)\n",
    "    print(DWH_ROLE_ARN)\n",
    "\n",
    "\n",
    "def check_redshift_status(aws: AWS, redshift_cluster_props):\n",
    "    df = aws.get_redshift_props_as_pd_df(redshift_cluster_props)\n",
    "    print(df)\n",
    "\n",
    "redshift_cluster_props = get_redshift_cluster_props()[0]\n",
    "check_redshift_status(aws, redshift_cluster_props)\n",
    "print_dwh_params(redshift_cluster_props)"
   ]
  },
  {
   "cell_type": "code",
   "execution_count": null,
   "id": "6ea5e6f0-5592-40a7-858d-1499dd48f36b",
   "metadata": {
    "tags": []
   },
   "outputs": [],
   "source": [
    "# Once Cluster is ready, open the tcp port\n",
    "aws.open_tcp_port(redshift_cluster_props)"
   ]
  },
  {
   "cell_type": "code",
   "execution_count": null,
   "id": "cae12aa0-ba6f-4d35-be3f-e97cb6892f4b",
   "metadata": {},
   "outputs": [],
   "source": [
    "conn_string = \"postgresql://{}:{}@{}:{}/{}\".format(configs[\"DWH_DB_USER\"],\n",
    "                                                   configs[\"DWH_DB_PASSWORD\"],\n",
    "                                                   'dwhcluster.c6jsnvqemczs.us-west-2.redshift.amazonaws.com', \n",
    "                                                   configs[\"DWH_PORT\"],\n",
    "                                                   configs[\"DWH_DB\"])\n",
    "print(conn_string)\n",
    "%sql $conn_string"
   ]
  },
  {
   "cell_type": "code",
   "execution_count": null,
   "id": "0a3b1137-e929-42ee-9bab-1f7277c8b19b",
   "metadata": {},
   "outputs": [],
   "source": [
    "%sql DROP TABLE IF EXISTS log_data;"
   ]
  },
  {
   "cell_type": "code",
   "execution_count": null,
   "id": "18ddac16-e129-495f-bf73-52f27050df94",
   "metadata": {},
   "outputs": [],
   "source": [
    "%%sql\n",
    "CREATE TABLE IF NOT EXISTS \"log_data\" (\n",
    "    \"artist\" TEXT,\n",
    "    \"auth\" VARCHAR(12) NOT NULL,\n",
    "    \"firstName\" TEXT NOT NULL,\n",
    "    \"gender\" TEXT NOT NULL,\n",
    "    \"itemInSession\" INTEGER NOT NULL,\n",
    "    \"length\" DECIMAL,\n",
    "    \"level\" VARCHAR(12) NOT NULL,\n",
    "    \"location\" TEXT NOT NULL,\n",
    "    \"method\" VARCHAR(7) NOT NULL,\n",
    "    \"page\" TEXT,\n",
    "    \"registration\" VARCHAR(12),\n",
    "    \"sessionId\" INTEGER NOT NULL,\n",
    "    \"song\" TEXT,\n",
    "    \"status\" SMALLINT NOT NULL,\n",
    "    \"timestamp\" BIGINT NOT NULL,\n",
    "    \"userAgent\" TEXT NOT NULL,\n",
    "    \"userId\" INTEGER NOT NULL\n",
    ");"
   ]
  },
  {
   "cell_type": "code",
   "execution_count": null,
   "id": "e4c6c863-1232-4ff0-bb7c-01f0785ebcde",
   "metadata": {},
   "outputs": [],
   "source": [
    "read_s3_role_arn = ''\n",
    "\n",
    "query = f\"\"\"\n",
    "COPY log_data\n",
    "FROM 's3://udacity-dend/log_data/'\n",
    "CREDENTIALS 'aws_iam_role={read_s3_role_arn}'\n",
    "gzip\n",
    "DELIMITER ';'\n",
    "REGION 'us-west-2';\n",
    "\"\"\"\n",
    "\n",
    "%sql query"
   ]
  },
  {
   "cell_type": "code",
   "execution_count": null,
   "id": "f2f6b0b3-60a5-4cf1-8130-cd60dd4aa10f",
   "metadata": {},
   "outputs": [],
   "source": [
    "aws.redshift.delete_cluster(\n",
    "    ClusterIdentifier=aws.configs['DWH_CLUSTER_IDENTIFIER'],\n",
    "    SkipFinalClusterSnapshot=True)"
   ]
  },
  {
   "cell_type": "code",
   "execution_count": null,
   "id": "8cc8548f-83a6-46b3-b8ff-82a62eac2885",
   "metadata": {},
   "outputs": [],
   "source": [
    "aws.iam.detach_role_policy(\n",
    "    RoleName=aws.configs['DWH_IAM_ROLE_NAME'],\n",
    "    PolicyArn=\"arn:aws:iam::aws:policy/AmazonS3ReadOnlyAccess\")"
   ]
  },
  {
   "cell_type": "code",
   "execution_count": null,
   "id": "87154fda-dca8-4466-80eb-ca202dec1452",
   "metadata": {},
   "outputs": [],
   "source": [
    "aws.iam.delete_role(RoleName=aws.configs['DWH_IAM_ROLE_NAME'])"
   ]
  },
  {
   "cell_type": "code",
   "execution_count": null,
   "id": "dd4efc69-1daf-4e82-85cd-b1ee425ed081",
   "metadata": {},
   "outputs": [],
   "source": []
  }
 ],
 "metadata": {
  "kernelspec": {
   "display_name": "Python 3",
   "language": "python",
   "name": "python3"
  },
  "language_info": {
   "codemirror_mode": {
    "name": "ipython",
    "version": 3
   },
   "file_extension": ".py",
   "mimetype": "text/x-python",
   "name": "python",
   "nbconvert_exporter": "python",
   "pygments_lexer": "ipython3",
   "version": "3.9.2"
  }
 },
 "nbformat": 4,
 "nbformat_minor": 5
}
